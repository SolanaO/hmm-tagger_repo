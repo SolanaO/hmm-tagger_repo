{
 "cells": [
  {
   "cell_type": "markdown",
   "metadata": {},
   "source": [
    "### Working with  dictionaries"
   ]
  },
  {
   "cell_type": "markdown",
   "metadata": {},
   "source": [
    "   Return a dictionary keyed to each unique value in the first sequence list that counts the number of occurrences of the corresponding value from the second sequences list.\n",
    "    \n",
    "    For example, if sequences_A is tags and sequences_B is the corresponding\n",
    "    words, then if 1244 sequences contain the word \"time\" tagged as a NOUN, then\n",
    "    you should return a dictionary such that pair_counts[NOUN][time] == 1244  "
   ]
  },
  {
   "cell_type": "code",
   "execution_count": 1,
   "metadata": {},
   "outputs": [],
   "source": [
    "# import the neccessary packages\n",
    "from collections import defaultdict, Counter"
   ]
  },
  {
   "cell_type": "code",
   "execution_count": 2,
   "metadata": {},
   "outputs": [],
   "source": [
    "# consider two tuples, tags and words\n",
    "seqA=('noun', 'pron', 'noun', 'noun', 'verb', 'prep', 'noun', 'noun', 'verb', 'noun', 'verb', 'pron', 'verb', 'verb')\n",
    "seqB=('house', 'him', 'garden', 'house', 'is', 'on', 'house', 'house', 'is', 'garden', 'does', 'house', 'house', 'house')"
   ]
  },
  {
   "cell_type": "code",
   "execution_count": 3,
   "metadata": {},
   "outputs": [],
   "source": [
    "# recall that zip() method in Python3 gives a zip object whose elements are pairs\n",
    "seqAB=zip(seqA, seqB)\n",
    "\n",
    "# if we want to translate the zip() object in a list\n",
    "listAB = list(zip(seqA,seqB))\n",
    "#listAB"
   ]
  },
  {
   "cell_type": "code",
   "execution_count": 4,
   "metadata": {},
   "outputs": [
    {
     "name": "stdout",
     "output_type": "stream",
     "text": [
      "noun house\n",
      "pron him\n",
      "noun garden\n",
      "noun house\n",
      "verb is\n",
      "prep on\n",
      "noun house\n",
      "noun house\n",
      "verb is\n",
      "noun garden\n",
      "verb does\n",
      "pron house\n",
      "verb house\n",
      "verb house\n"
     ]
    }
   ],
   "source": [
    "# accessing the elements in a zip()\n",
    "for tags, words in zip(seqA, seqB):\n",
    "    print(tags, words)"
   ]
  },
  {
   "cell_type": "code",
   "execution_count": 5,
   "metadata": {},
   "outputs": [
    {
     "data": {
      "text/plain": [
       "Counter({('noun', 'garden'): 2,\n",
       "         ('noun', 'house'): 4,\n",
       "         ('prep', 'on'): 1,\n",
       "         ('pron', 'him'): 1,\n",
       "         ('pron', 'house'): 1,\n",
       "         ('verb', 'does'): 1,\n",
       "         ('verb', 'house'): 2,\n",
       "         ('verb', 'is'): 2})"
      ]
     },
     "execution_count": 5,
     "metadata": {},
     "output_type": "execute_result"
    }
   ],
   "source": [
    "# we can count the occurences of each entry in the list\n",
    "Counter(listAB) "
   ]
  },
  {
   "cell_type": "code",
   "execution_count": 6,
   "metadata": {},
   "outputs": [
    {
     "data": {
      "text/plain": [
       "defaultdict(<function __main__.<lambda>()>,\n",
       "            {'noun': defaultdict(int, {'garden': 2, 'house': 4}),\n",
       "             'prep': defaultdict(int, {'on': 1}),\n",
       "             'pron': defaultdict(int, {'him': 1, 'house': 1}),\n",
       "             'verb': defaultdict(int, {'does': 1, 'house': 2, 'is': 2})})"
      ]
     },
     "execution_count": 6,
     "metadata": {},
     "output_type": "execute_result"
    }
   ],
   "source": [
    "# this creates an empty  nested dictionary using defaultdict\n",
    "# disadvantage: types in default dictionary on every line, messy\n",
    "\n",
    "dd = defaultdict(lambda: defaultdict(int))\n",
    "\n",
    "# add the first entry as with tag as key1, word as key2\n",
    "for tag, word in zip(seqA, seqB): #need to write zip(.,.) not use label\n",
    "        dd[tag][word] += 1\n",
    "dd"
   ]
  },
  {
   "cell_type": "code",
   "execution_count": 12,
   "metadata": {},
   "outputs": [],
   "source": [
    "def pair_counts(sequences_A, sequences_B):\n",
    "    \"\"\"Return a dictionary keyed to each unique value in the first sequence list\n",
    "    that counts the number of occurrences of the corresponding value from the\n",
    "    second sequences list.\n",
    "    \n",
    "    For example, if sequences_A is tags and sequences_B is the corresponding\n",
    "    words, then if 1244 sequences contain the word \"time\" tagged as a NOUN, then\n",
    "    you should return a dictionary such that pair_counts[NOUN][time] == 1244\n",
    "    \"\"\"\n",
    "    # TODO: Finish this function!\n",
    "    \n",
    "    nd = defaultdict(lambda: defaultdict(int))\n",
    "    for tag, word in zip(sequences_A, sequences_B):\n",
    "        nd[tag][word] += 1\n",
    "        \n",
    "    return nd"
   ]
  },
  {
   "cell_type": "code",
   "execution_count": 14,
   "metadata": {},
   "outputs": [
    {
     "data": {
      "text/plain": [
       "defaultdict(<function __main__.pair_counts.<locals>.<lambda>()>,\n",
       "            {'noun': defaultdict(int, {'garden': 2, 'house': 4}),\n",
       "             'prep': defaultdict(int, {'on': 1}),\n",
       "             'pron': defaultdict(int, {'him': 1, 'house': 1}),\n",
       "             'verb': defaultdict(int, {'does': 1, 'house': 2, 'is': 2})})"
      ]
     },
     "execution_count": 14,
     "metadata": {},
     "output_type": "execute_result"
    }
   ],
   "source": [
    "lolo=pair_counts(seqA, seqB)\n",
    "lolo"
   ]
  },
  {
   "cell_type": "code",
   "execution_count": 7,
   "metadata": {},
   "outputs": [
    {
     "data": {
      "text/plain": [
       "defaultdict(<function __main__.<lambda>()>,\n",
       "            {'does': defaultdict(int, {'verb': 1}),\n",
       "             'garden': defaultdict(int, {'noun': 2}),\n",
       "             'him': defaultdict(int, {'pron': 1}),\n",
       "             'house': defaultdict(int, {'noun': 4, 'pron': 1, 'verb': 2}),\n",
       "             'is': defaultdict(int, {'verb': 2}),\n",
       "             'on': defaultdict(int, {'prep': 1})})"
      ]
     },
     "execution_count": 7,
     "metadata": {},
     "output_type": "execute_result"
    }
   ],
   "source": [
    "ll = defaultdict(lambda: defaultdict(int))\n",
    "\n",
    "# add the first entry as with tag as key1, word as key2\n",
    "for tag, word in zip(seqB, seqA): #need to write zip(.,.) not use label\n",
    "        ll[tag][word] += 1\n",
    "ll"
   ]
  },
  {
   "cell_type": "code",
   "execution_count": 10,
   "metadata": {},
   "outputs": [
    {
     "data": {
      "text/plain": [
       "Counter()"
      ]
     },
     "execution_count": 10,
     "metadata": {},
     "output_type": "execute_result"
    }
   ],
   "source": [
    "def get_most_frequent_tag(dict_tags):\n",
    "    tag, count = Counter(dict_tags).most_common(2)[0]\n",
    "    return tag\n",
    "\n",
    "mfc_table = {word: get_most_frequent_tag(word_counts[word]) for word in word_counts.keys()}"
   ]
  },
  {
   "cell_type": "code",
   "execution_count": 11,
   "metadata": {},
   "outputs": [
    {
     "ename": "TypeError",
     "evalue": "unorderable types: collections.defaultdict() < collections.defaultdict()",
     "output_type": "error",
     "traceback": [
      "\u001b[0;31m---------------------------------------------------------------------------\u001b[0m",
      "\u001b[0;31mTypeError\u001b[0m                                 Traceback (most recent call last)",
      "\u001b[0;32m<ipython-input-11-f81ec568bd4d>\u001b[0m in \u001b[0;36m<module>\u001b[0;34m()\u001b[0m\n\u001b[0;32m----> 1\u001b[0;31m \u001b[0mCounter\u001b[0m\u001b[0;34m(\u001b[0m\u001b[0mll\u001b[0m\u001b[0;34m)\u001b[0m\u001b[0;34m.\u001b[0m\u001b[0mmost_common\u001b[0m\u001b[0;34m(\u001b[0m\u001b[0;36m2\u001b[0m\u001b[0;34m)\u001b[0m\u001b[0;34m\u001b[0m\u001b[0m\n\u001b[0m",
      "\u001b[0;32m~/anaconda3/envs/hmm-tagger/lib/python3.5/collections/__init__.py\u001b[0m in \u001b[0;36mmost_common\u001b[0;34m(self, n)\u001b[0m\n\u001b[1;32m    549\u001b[0m         \u001b[0;32mif\u001b[0m \u001b[0mn\u001b[0m \u001b[0;32mis\u001b[0m \u001b[0;32mNone\u001b[0m\u001b[0;34m:\u001b[0m\u001b[0;34m\u001b[0m\u001b[0m\n\u001b[1;32m    550\u001b[0m             \u001b[0;32mreturn\u001b[0m \u001b[0msorted\u001b[0m\u001b[0;34m(\u001b[0m\u001b[0mself\u001b[0m\u001b[0;34m.\u001b[0m\u001b[0mitems\u001b[0m\u001b[0;34m(\u001b[0m\u001b[0;34m)\u001b[0m\u001b[0;34m,\u001b[0m \u001b[0mkey\u001b[0m\u001b[0;34m=\u001b[0m\u001b[0m_itemgetter\u001b[0m\u001b[0;34m(\u001b[0m\u001b[0;36m1\u001b[0m\u001b[0;34m)\u001b[0m\u001b[0;34m,\u001b[0m \u001b[0mreverse\u001b[0m\u001b[0;34m=\u001b[0m\u001b[0;32mTrue\u001b[0m\u001b[0;34m)\u001b[0m\u001b[0;34m\u001b[0m\u001b[0m\n\u001b[0;32m--> 551\u001b[0;31m         \u001b[0;32mreturn\u001b[0m \u001b[0m_heapq\u001b[0m\u001b[0;34m.\u001b[0m\u001b[0mnlargest\u001b[0m\u001b[0;34m(\u001b[0m\u001b[0mn\u001b[0m\u001b[0;34m,\u001b[0m \u001b[0mself\u001b[0m\u001b[0;34m.\u001b[0m\u001b[0mitems\u001b[0m\u001b[0;34m(\u001b[0m\u001b[0;34m)\u001b[0m\u001b[0;34m,\u001b[0m \u001b[0mkey\u001b[0m\u001b[0;34m=\u001b[0m\u001b[0m_itemgetter\u001b[0m\u001b[0;34m(\u001b[0m\u001b[0;36m1\u001b[0m\u001b[0;34m)\u001b[0m\u001b[0;34m)\u001b[0m\u001b[0;34m\u001b[0m\u001b[0m\n\u001b[0m\u001b[1;32m    552\u001b[0m \u001b[0;34m\u001b[0m\u001b[0m\n\u001b[1;32m    553\u001b[0m     \u001b[0;32mdef\u001b[0m \u001b[0melements\u001b[0m\u001b[0;34m(\u001b[0m\u001b[0mself\u001b[0m\u001b[0;34m)\u001b[0m\u001b[0;34m:\u001b[0m\u001b[0;34m\u001b[0m\u001b[0m\n",
      "\u001b[0;32m~/anaconda3/envs/hmm-tagger/lib/python3.5/heapq.py\u001b[0m in \u001b[0;36mnlargest\u001b[0;34m(n, iterable, key)\u001b[0m\n\u001b[1;32m    570\u001b[0m     \u001b[0;32mif\u001b[0m \u001b[0;32mnot\u001b[0m \u001b[0mresult\u001b[0m\u001b[0;34m:\u001b[0m\u001b[0;34m\u001b[0m\u001b[0m\n\u001b[1;32m    571\u001b[0m         \u001b[0;32mreturn\u001b[0m \u001b[0mresult\u001b[0m\u001b[0;34m\u001b[0m\u001b[0m\n\u001b[0;32m--> 572\u001b[0;31m     \u001b[0mheapify\u001b[0m\u001b[0;34m(\u001b[0m\u001b[0mresult\u001b[0m\u001b[0;34m)\u001b[0m\u001b[0;34m\u001b[0m\u001b[0m\n\u001b[0m\u001b[1;32m    573\u001b[0m     \u001b[0mtop\u001b[0m \u001b[0;34m=\u001b[0m \u001b[0mresult\u001b[0m\u001b[0;34m[\u001b[0m\u001b[0;36m0\u001b[0m\u001b[0;34m]\u001b[0m\u001b[0;34m[\u001b[0m\u001b[0;36m0\u001b[0m\u001b[0;34m]\u001b[0m\u001b[0;34m\u001b[0m\u001b[0m\n\u001b[1;32m    574\u001b[0m     \u001b[0morder\u001b[0m \u001b[0;34m=\u001b[0m \u001b[0;34m-\u001b[0m\u001b[0mn\u001b[0m\u001b[0;34m\u001b[0m\u001b[0m\n",
      "\u001b[0;31mTypeError\u001b[0m: unorderable types: collections.defaultdict() < collections.defaultdict()"
     ]
    }
   ],
   "source": [
    "Counter(ll).most_common(2)"
   ]
  },
  {
   "cell_type": "code",
   "execution_count": 67,
   "metadata": {},
   "outputs": [
    {
     "name": "stdout",
     "output_type": "stream",
     "text": [
      "0 verb\n",
      "1 prep\n",
      "2 pron\n",
      "3 noun\n"
     ]
    }
   ],
   "source": [
    "# enumerate method includes an index \n",
    "\n",
    "for i, pair in enumerate(dd):\n",
    "    print(i, pair)"
   ]
  },
  {
   "cell_type": "code",
   "execution_count": 9,
   "metadata": {},
   "outputs": [
    {
     "data": {
      "text/plain": [
       "{'does': 'verb',\n",
       " 'garden': 'noun',\n",
       " 'him': 'pron',\n",
       " 'house': 'noun',\n",
       " 'is': 'verb',\n",
       " 'on': 'prep'}"
      ]
     },
     "execution_count": 9,
     "metadata": {},
     "output_type": "execute_result"
    }
   ],
   "source": [
    "ll\n",
    "mfc_table = {}\n",
    "for key, value in ll.items():\n",
    "    pos_count = 0\n",
    "    pos_name = None\n",
    "    for pos, count in value.items():\n",
    "        if count > pos_count:\n",
    "            pos_count = count\n",
    "            pos_name = pos\n",
    "    mfc_table[key] = pos_name\n",
    "\n",
    "mfc_table"
   ]
  },
  {
   "cell_type": "code",
   "execution_count": 60,
   "metadata": {},
   "outputs": [
    {
     "name": "stdout",
     "output_type": "stream",
     "text": [
      "\n",
      "the tag: verb\n",
      "does: 1\n",
      "verb: 0\n",
      "garden: 0\n",
      "is: 2\n",
      "house: 2\n",
      "\n",
      "the tag: prep\n",
      "house: 0\n",
      "on: 1\n",
      "garden: 0\n",
      "\n",
      "the tag: pron\n",
      "him: 1\n",
      "house: 1\n",
      "garden: 0\n",
      "\n",
      "the tag: noun\n",
      "house: 4\n",
      "garden: 2\n"
     ]
    }
   ],
   "source": [
    "D = {'emp1': {'name': 'Bob', 'job': 'Mgr'},\n",
    "     'emp2': {'name': 'Kim', 'job': 'Dev'},\n",
    "     'emp3': {'name': 'Sam', 'job': 'Dev'}}\n",
    "\n",
    "for tag, word in dd.items():\n",
    "    print(\"\\nthe tag:\", tag)\n",
    "    for key in word:\n",
    "        print(key + ':', word[key])"
   ]
  },
  {
   "cell_type": "code",
   "execution_count": 53,
   "metadata": {},
   "outputs": [
    {
     "data": {
      "text/plain": [
       "defaultdict(int, {'garden': 0, 'on': 1})"
      ]
     },
     "execution_count": 53,
     "metadata": {},
     "output_type": "execute_result"
    }
   ],
   "source": [
    "list(dd.items())[1][1]"
   ]
  },
  {
   "cell_type": "code",
   "execution_count": 16,
   "metadata": {},
   "outputs": [
    {
     "data": {
      "text/plain": [
       "2"
      ]
     },
     "execution_count": 16,
     "metadata": {},
     "output_type": "execute_result"
    }
   ],
   "source": [
    "for word in dd.values():\n",
    "    dd['noun']['garden']"
   ]
  },
  {
   "cell_type": "code",
   "execution_count": 26,
   "metadata": {},
   "outputs": [
    {
     "data": {
      "text/plain": [
       "dict_items([('verb', defaultdict(<class 'int'>, {'does': 1, 'is': 2})), ('prep', defaultdict(<class 'int'>, {'on': 1})), ('pron', defaultdict(<class 'int'>, {'him': 1})), ('noun', defaultdict(<class 'int'>, {'house': 4, 'garden': 2}))])"
      ]
     },
     "execution_count": 26,
     "metadata": {},
     "output_type": "execute_result"
    }
   ],
   "source": [
    "dd.items()"
   ]
  },
  {
   "cell_type": "code",
   "execution_count": 30,
   "metadata": {},
   "outputs": [
    {
     "name": "stdout",
     "output_type": "stream",
     "text": [
      "<class 'collections.defaultdict'>\n",
      "<class 'collections.defaultdict'>\n",
      "<class 'collections.defaultdict'>\n",
      "<class 'collections.defaultdict'>\n",
      "4\n",
      "2\n"
     ]
    }
   ],
   "source": [
    "for tag, word_info in dd.items():\n",
    "    print(type(word_info))\n",
    "    \n",
    "for key in word_info:\n",
    "    print(word_info[key])"
   ]
  },
  {
   "cell_type": "code",
   "execution_count": 19,
   "metadata": {},
   "outputs": [
    {
     "name": "stdout",
     "output_type": "stream",
     "text": [
      "\n",
      "Person ID: 1\n",
      "\n",
      "Person ID: 2\n",
      "Name: Marie\n",
      "Sex: Female\n",
      "Age: 22\n"
     ]
    }
   ],
   "source": [
    "people = {1: {'Name': 'John', 'Age': '27', 'Sex': 'Male'},\n",
    "          2: {'Name': 'Marie', 'Age': '22', 'Sex': 'Female'}}\n",
    "\n",
    "for p_id, p_info in people.items():\n",
    "    print(\"\\nPerson ID:\", p_id)\n",
    "    \n",
    "for key in p_info:\n",
    "        print(key + ':', p_info[key])"
   ]
  },
  {
   "cell_type": "code",
   "execution_count": 9,
   "metadata": {},
   "outputs": [
    {
     "data": {
      "text/plain": [
       "defaultdict(int,\n",
       "            {('noun', 'garden'): 2,\n",
       "             ('noun', 'house'): 4,\n",
       "             ('prep', 'on'): 1,\n",
       "             ('pron', 'him'): 1,\n",
       "             ('verb', 'does'): 1,\n",
       "             ('verb', 'is'): 2})"
      ]
     },
     "execution_count": 9,
     "metadata": {},
     "output_type": "execute_result"
    }
   ],
   "source": [
    "dc = defaultdict(int)\n",
    "\n",
    "# add the first entry as with tag as key1, word as key2\n",
    "for tag in zip(seqA, seqB): #need to write zip(.,.) not use label\n",
    "        dc[tag] += 1\n",
    "dc"
   ]
  },
  {
   "cell_type": "code",
   "execution_count": 14,
   "metadata": {},
   "outputs": [
    {
     "data": {
      "text/plain": [
       "defaultdict(int, {'does': 1, 'is': 2})"
      ]
     },
     "execution_count": 14,
     "metadata": {},
     "output_type": "execute_result"
    }
   ],
   "source": [
    "special_tag='verb'\n",
    "\n",
    "dlist=defaultdict(int)\n",
    "\n",
    "for tag, word in zip(seqA, seqB):\n",
    "    if tag==special_tag:\n",
    "        dlist[word] +=1\n",
    "dlist"
   ]
  },
  {
   "cell_type": "code",
   "execution_count": null,
   "metadata": {},
   "outputs": [],
   "source": []
  },
  {
   "cell_type": "code",
   "execution_count": 101,
   "metadata": {},
   "outputs": [
    {
     "name": "stdout",
     "output_type": "stream",
     "text": [
      "('prep', 1)\n",
      "('noun', 6)\n",
      "('pron', 1)\n",
      "('verb', 3)\n"
     ]
    }
   ],
   "source": [
    "# program to count the frequency of elements in a list using a dictionary \n",
    "  \n",
    "def CountFrequency(my_list): \n",
    "  \n",
    "    # Creating an empty dictionary  \n",
    "    freq = {} \n",
    "    for item in my_list: \n",
    "        if (item in freq): \n",
    "            freq[item] += 1\n",
    "        else: \n",
    "            freq[item] = 1\n",
    "  \n",
    "    for key, value in freq.items(): \n",
    "        print ((key, value))\n",
    "        \n",
    "CountFrequency(seqA)"
   ]
  },
  {
   "cell_type": "code",
   "execution_count": 102,
   "metadata": {},
   "outputs": [
    {
     "data": {
      "text/plain": [
       "{'noun': 'garden', 'prep': 'on', 'pron': 'him', 'verb': 'does'}"
      ]
     },
     "execution_count": 102,
     "metadata": {},
     "output_type": "execute_result"
    }
   ],
   "source": [
    "# how to create a dictionary from a zip() object\n",
    "# since the keys are unique, this doesn't work!!!\n",
    "\n",
    "dict={k:v for k, v in zip(seqA, seqB)}\n",
    "dict"
   ]
  },
  {
   "cell_type": "code",
   "execution_count": 103,
   "metadata": {},
   "outputs": [
    {
     "data": {
      "text/plain": [
       "{'noun': {'garden': 2, 'house': 4},\n",
       " 'prep': {'on': 1},\n",
       " 'pron': {'him': 1},\n",
       " 'verb': {'does': 1, 'is': 2}}"
      ]
     },
     "execution_count": 103,
     "metadata": {},
     "output_type": "execute_result"
    }
   ],
   "source": [
    " # create an empty dictionary\n",
    "nd = {}\n",
    "\n",
    "# use the zip() method to combine the two tuples\n",
    "for tag, word in zip(seqA, seqB):\n",
    "    # define the default state\n",
    "    if tag not in nd.keys(): nd[tag] = {} \n",
    "    if word not in nd[tag].keys(): nd[tag][word] = 0\n",
    "    # loop through the entries of the zip() object, count occurences\n",
    "    nd[tag][word] +=1\n",
    "\n",
    "# print the nested dictionary\n",
    "nd\n"
   ]
  },
  {
   "cell_type": "code",
   "execution_count": 108,
   "metadata": {},
   "outputs": [
    {
     "data": {
      "text/plain": [
       "{'Milter': {'Malter': 2, 'Miler': 4, 'Miller': 4}}"
      ]
     },
     "execution_count": 108,
     "metadata": {},
     "output_type": "execute_result"
    }
   ],
   "source": [
    "# interesting way to build a nested dictionary \n",
    "\n",
    "# this is our sample data\n",
    "data = [(\"Milter\", \"Miller\", 4), (\"Milter\", \"Miler\", 4), (\"Milter\", \"Malter\", 2)]\n",
    "\n",
    "# dictionary we want for the result\n",
    "dictionary = {}\n",
    "\n",
    "# loop that makes it work\n",
    "for realName, falseName, position in data:\n",
    "    dictionary.setdefault(realName, {})[falseName] = position\n",
    "    \n",
    "dictionary"
   ]
  },
  {
   "cell_type": "code",
   "execution_count": 111,
   "metadata": {},
   "outputs": [
    {
     "data": {
      "text/plain": [
       "{'noun': {'garden': 6, 'house': 12},\n",
       " 'prep': {'on': 3},\n",
       " 'pron': {'him': 3},\n",
       " 'verb': {'does': 3, 'is': 6}}"
      ]
     },
     "execution_count": 111,
     "metadata": {},
     "output_type": "execute_result"
    }
   ],
   "source": [
    "def pair_counts(tags, words):\n",
    "    d = defaultdict(lambda: defaultdict(int))\n",
    "    for tag, word in zip(tags, words):\n",
    "        d[tag][word] += 1\n",
    "    return d\n",
    "d"
   ]
  },
  {
   "cell_type": "code",
   "execution_count": 113,
   "metadata": {},
   "outputs": [
    {
     "data": {
      "text/plain": [
       "{('noun', 'garden'): 2,\n",
       " ('noun', 'house'): 4,\n",
       " ('prep', 'on'): 1,\n",
       " ('pron', 'him'): 1,\n",
       " ('verb', 'does'): 1,\n",
       " ('verb', 'is'): 2}"
      ]
     },
     "execution_count": 113,
     "metadata": {},
     "output_type": "execute_result"
    }
   ],
   "source": [
    "# another example of computing frequencies\n",
    "\n",
    "frq={}\n",
    "for pair in listAB:\n",
    "    frq[pair] = listAB.count(pair)\n",
    "frq"
   ]
  },
  {
   "cell_type": "code",
   "execution_count": 115,
   "metadata": {},
   "outputs": [
    {
     "data": {
      "text/plain": [
       "defaultdict(list,\n",
       "            {'CA': ['Sacramento', 'Palo Alto'],\n",
       "             'GA': ['Atlanta'],\n",
       "             'NY': ['Albany', 'Syracuse', 'Buffalo', 'Rochester'],\n",
       "             'TX': ['Austin', 'Houston', 'Dallas']})"
      ]
     },
     "execution_count": 115,
     "metadata": {},
     "output_type": "execute_result"
    }
   ],
   "source": [
    "# another way to build a dictionary, where values are lists\n",
    "city_list = [('TX','Austin'), ('TX','Houston'), ('NY','Albany'), ('NY', 'Syracuse'),\n",
    "             ('NY', 'Buffalo'), ('NY', 'Rochester'), ('TX', 'Dallas'), ('CA','Sacramento'), \n",
    "             ('CA', 'Palo Alto'), ('GA', 'Atlanta')]\n",
    "\n",
    "cities_by_state = defaultdict(list)\n",
    "for state, city in city_list:\n",
    "    cities_by_state[state].append(city)\n",
    "\n",
    "#for state, cities in cities_by_state.iteritems():print state, ', '.join(cities)\n",
    "cities_by_state"
   ]
  },
  {
   "cell_type": "code",
   "execution_count": null,
   "metadata": {},
   "outputs": [],
   "source": []
  }
 ],
 "metadata": {
  "kernelspec": {
   "display_name": "Python 3",
   "language": "python",
   "name": "python3"
  },
  "language_info": {
   "codemirror_mode": {
    "name": "ipython",
    "version": 3
   },
   "file_extension": ".py",
   "mimetype": "text/x-python",
   "name": "python",
   "nbconvert_exporter": "python",
   "pygments_lexer": "ipython3",
   "version": "3.5.4"
  }
 },
 "nbformat": 4,
 "nbformat_minor": 4
}
