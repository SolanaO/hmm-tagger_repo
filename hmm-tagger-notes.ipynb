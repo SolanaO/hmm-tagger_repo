{
 "cells": [
  {
   "cell_type": "code",
   "execution_count": 1,
   "metadata": {},
   "outputs": [],
   "source": [
    "# import the neccessary packages\n",
    "from collections import defaultdict, Counter, namedtuple"
   ]
  },
  {
   "cell_type": "markdown",
   "metadata": {},
   "source": [
    "### Working with nested dictionaries"
   ]
  },
  {
   "cell_type": "markdown",
   "metadata": {},
   "source": [
    "### Problem ###\n",
    "\n",
    "You are given two lists of sequences: A = tags and B = words. Return a dictionary keyed to each unique value in the first sequence list that counts the number of occurrences of the corresponding value from the second sequence list.\n",
    "    \n",
    "For example: if 1244 sequences in the list B contain the word \"time\" tagged as a NOUN, then you should return a dictionary such that pair_counts[NOUN][time] == 1244  \n",
    "\n",
    "Note: B is a list of sequences, each sequence comprises the words of a senetence in the corpus. See example below with X (sentences) and Y the corresponding tags."
   ]
  },
  {
   "cell_type": "code",
   "execution_count": 2,
   "metadata": {},
   "outputs": [],
   "source": [
    "# consider two tuples, tags and words - easy to work with sample\n",
    "seqA=('noun', 'pron', 'noun', 'noun', 'verb', 'prep', 'noun', 'noun', 'verb', 'noun', 'verb', 'pron', 'verb', 'verb')\n",
    "seqB=('house', 'him', 'garden', 'house', 'is', 'on', 'house', 'house', 'is', 'garden', 'does', 'house', 'house', 'house')"
   ]
  },
  {
   "cell_type": "code",
   "execution_count": 3,
   "metadata": {},
   "outputs": [
    {
     "data": {
      "text/plain": [
       "('noun', 'garden')"
      ]
     },
     "execution_count": 3,
     "metadata": {},
     "output_type": "execute_result"
    }
   ],
   "source": [
    "# recall that zip() method in Python3 gives a zip object whose elements are pairs\n",
    "seqAB=zip(seqA, seqB)\n",
    "\n",
    "# if we want to translate the zip() object in a list\n",
    "listAB = list(zip(seqA,seqB))\n",
    "listAB[2] # a list of pairs (tag, word)"
   ]
  },
  {
   "cell_type": "code",
   "execution_count": 4,
   "metadata": {},
   "outputs": [],
   "source": [
    "# accessing the elements in a zip()\n",
    "#for tags, words in zip(seqA, seqB):\n",
    "#    print(tags, words)"
   ]
  },
  {
   "cell_type": "code",
   "execution_count": 5,
   "metadata": {},
   "outputs": [
    {
     "data": {
      "text/plain": [
       "Counter({('noun', 'garden'): 2,\n",
       "         ('noun', 'house'): 4,\n",
       "         ('prep', 'on'): 1,\n",
       "         ('pron', 'him'): 1,\n",
       "         ('pron', 'house'): 1,\n",
       "         ('verb', 'does'): 1,\n",
       "         ('verb', 'house'): 2,\n",
       "         ('verb', 'is'): 2})"
      ]
     },
     "execution_count": 5,
     "metadata": {},
     "output_type": "execute_result"
    }
   ],
   "source": [
    "# we can count the occurences of each entry in the list\n",
    "Counter(listAB) # type is Collections.Counter"
   ]
  },
  {
   "cell_type": "code",
   "execution_count": 6,
   "metadata": {},
   "outputs": [
    {
     "data": {
      "text/plain": [
       "dict_keys([('verb', 'is'), ('prep', 'on'), ('verb', 'does'), ('pron', 'him'), ('pron', 'house'), ('verb', 'house'), ('noun', 'garden'), ('noun', 'house')])"
      ]
     },
     "execution_count": 6,
     "metadata": {},
     "output_type": "execute_result"
    }
   ],
   "source": [
    "# defininng the counter as dictionary with tuple keys\n",
    "dcnt = dict(Counter(zip(seqA, seqB)))\n",
    "dcnt.keys()"
   ]
  },
  {
   "cell_type": "code",
   "execution_count": 7,
   "metadata": {},
   "outputs": [
    {
     "data": {
      "text/plain": [
       "dict_items([(('verb', 'is'), 2), (('prep', 'on'), 1), (('verb', 'does'), 1), (('pron', 'him'), 1), (('pron', 'house'), 1), (('verb', 'house'), 2), (('noun', 'garden'), 2), (('noun', 'house'), 4)])"
      ]
     },
     "execution_count": 7,
     "metadata": {},
     "output_type": "execute_result"
    }
   ],
   "source": [
    "dcnt.items()"
   ]
  },
  {
   "cell_type": "code",
   "execution_count": 8,
   "metadata": {},
   "outputs": [
    {
     "data": {
      "text/plain": [
       "defaultdict(<function __main__.pair_counts.<locals>.<lambda>()>,\n",
       "            {'noun': defaultdict(int, {'garden': 2, 'house': 4}),\n",
       "             'prep': defaultdict(int, {'on': 1}),\n",
       "             'pron': defaultdict(int, {'him': 1, 'house': 1}),\n",
       "             'verb': defaultdict(int, {'does': 1, 'house': 2, 'is': 2})})"
      ]
     },
     "execution_count": 8,
     "metadata": {},
     "output_type": "execute_result"
    }
   ],
   "source": [
    "# one way to use default dictionary, two nested dictionaries\n",
    "# the count is done in the dictionary \n",
    "\n",
    "def pair_counts(seqA, seqB):\n",
    "    \n",
    "    nd = defaultdict(lambda: defaultdict(int))\n",
    "    \n",
    "    for tag, word in zip(seqA, seqB):\n",
    "        nd[tag][word] += 1\n",
    "        # the above means: nd[tag][word] = nd[tag][word] + 1\n",
    "        \n",
    "    return nd\n",
    "\n",
    "#notice the ogly printout\n",
    "pair_counts(seqA,seqB)"
   ]
  },
  {
   "cell_type": "code",
   "execution_count": 9,
   "metadata": {},
   "outputs": [
    {
     "data": {
      "text/plain": [
       "defaultdict(dict,\n",
       "            {'noun': {'garden': 2, 'house': 4},\n",
       "             'prep': {'on': 1},\n",
       "             'pron': {'him': 1, 'house': 1},\n",
       "             'verb': {'does': 1, 'house': 2, 'is': 2}})"
      ]
     },
     "execution_count": 9,
     "metadata": {},
     "output_type": "execute_result"
    }
   ],
   "source": [
    "# use defalut dictionary to handle possible missing keys\n",
    "# here we combine the default dictionary with the Counter method\n",
    "\n",
    "def pair_counts(seqA, seqB):\n",
    "    # instatiation of the nested dictionary: default dictionary\n",
    "    # with a built in dictionary\n",
    "    dd = defaultdict(dict) \n",
    "    # nested dictionary: key = tag, nested key = word, form the pair in zip\n",
    "    # value is the Counter output\n",
    "    for pair,count in dict(Counter((zip(seqA, seqB)))).items():\n",
    "        dd[pair[0]][pair[1]] = count\n",
    "    return dd\n",
    "# the printout is much better\n",
    "pair_counts(seqA, seqB)"
   ]
  },
  {
   "cell_type": "markdown",
   "metadata": {},
   "source": [
    "### Problem ###\n",
    "\n",
    "Use the pair_counts() function and the training dataset to find the most frequent class label for each word in the training data, and populate the mfc_table below. The table keys should be words, and the values should be the appropriate tag string.\n",
    "\n",
    "Create a lookup table mfc_table where mfc_table[word] contains the tag label most frequently assigned to that word.\n"
   ]
  },
  {
   "cell_type": "code",
   "execution_count": 10,
   "metadata": {},
   "outputs": [],
   "source": [
    "word_counts = pair_counts(seqB,seqA)"
   ]
  },
  {
   "cell_type": "code",
   "execution_count": 11,
   "metadata": {},
   "outputs": [
    {
     "data": {
      "text/plain": [
       "{'does': 'verb',\n",
       " 'garden': 'noun',\n",
       " 'him': 'pron',\n",
       " 'house': 'noun',\n",
       " 'is': 'verb',\n",
       " 'on': 'prep'}"
      ]
     },
     "execution_count": 11,
     "metadata": {},
     "output_type": "execute_result"
    }
   ],
   "source": [
    "# a solution I found online\n",
    "mfc_table = {}\n",
    "\n",
    "for key, value in word_counts.items():\n",
    "    pos_count = 0\n",
    "    pos_name = None\n",
    "    for pos, count in value.items():\n",
    "        if count > pos_count:\n",
    "            pos_count = count\n",
    "            pos_name = pos\n",
    "    mfc_table[key] = pos_name\n",
    "mfc_table"
   ]
  },
  {
   "cell_type": "code",
   "execution_count": 12,
   "metadata": {},
   "outputs": [
    {
     "data": {
      "text/plain": [
       "{'does': 'verb',\n",
       " 'garden': 'noun',\n",
       " 'him': 'pron',\n",
       " 'house': 'noun',\n",
       " 'is': 'verb',\n",
       " 'on': 'prep'}"
      ]
     },
     "execution_count": 12,
     "metadata": {},
     "output_type": "execute_result"
    }
   ],
   "source": [
    "# this is my solution \n",
    "\n",
    "mfc_table1={}\n",
    "for key, value in word_counts.items():\n",
    "    ps=Counter(value).most_common(1)\n",
    "    mfc_table1[key]=ps[0][0]\n",
    "mfc_table1"
   ]
  },
  {
   "cell_type": "code",
   "execution_count": 13,
   "metadata": {},
   "outputs": [
    {
     "data": {
      "text/plain": [
       "{'does': 'verb',\n",
       " 'garden': 'noun',\n",
       " 'him': 'pron',\n",
       " 'house': 'noun',\n",
       " 'is': 'verb',\n",
       " 'on': 'prep'}"
      ]
     },
     "execution_count": 13,
     "metadata": {},
     "output_type": "execute_result"
    }
   ],
   "source": [
    "#tags = [pair[1] for pair in data.training_set.stream()] # this is seqA\n",
    "#words = [pair[0] for pair in data.training_set.stream()] # this is seqB\n",
    "#word_counts = pair_counts(words, tags)\n",
    "\n",
    "#another version of the solution\n",
    "\n",
    "def get_most_frequent_tag(dict_tags):\n",
    "    tag, count = Counter(dict_tags).most_common(2)[0]\n",
    "    return tag\n",
    "\n",
    "mfc_table2 = {word: get_most_frequent_tag(word_counts[word]) for word in word_counts.keys()}\n",
    "mfc_table2"
   ]
  },
  {
   "cell_type": "code",
   "execution_count": 14,
   "metadata": {},
   "outputs": [
    {
     "name": "stdout",
     "output_type": "stream",
     "text": [
      "The original list is : [('noun', 'house'), ('pron', 'him'), ('noun', 'garden'), ('noun', 'house'), ('verb', 'is'), ('prep', 'on'), ('noun', 'house'), ('noun', 'house'), ('verb', 'is'), ('noun', 'garden'), ('verb', 'does'), ('pron', 'house'), ('verb', 'house'), ('verb', 'house')]\n",
      "The frequency of element is : 6\n"
     ]
    }
   ],
   "source": [
    "# Python3 code to demonstrate \n",
    "# finding frequency in list of tuples \n",
    "# using map() + count() \n",
    "  \n",
    "# initializing list of tuples \n",
    "listAB = list(zip(seqA, seqB))\n",
    "  \n",
    "# printing the original list \n",
    "print (\"The original list is : \" + str(listAB)) \n",
    "  \n",
    "# using map() + count() \n",
    "# finding frequency in list of tuples  \n",
    "res = list(map(lambda i : i[0], listAB)).count('noun') \n",
    "  \n",
    "# printing result \n",
    "print (\"The frequency of element is : \" + str(res)) \n"
   ]
  },
  {
   "cell_type": "markdown",
   "metadata": {},
   "source": [
    "### Project Scribbles"
   ]
  },
  {
   "cell_type": "code",
   "execution_count": 15,
   "metadata": {},
   "outputs": [
    {
     "data": {
      "text/plain": [
       "defaultdict(<function __main__.<lambda>()>,\n",
       "            {'noun': defaultdict(int, {'garden': 2, 'house': 4}),\n",
       "             'prep': defaultdict(int, {'on': 1}),\n",
       "             'pron': defaultdict(int, {'him': 1, 'house': 1}),\n",
       "             'verb': defaultdict(int, {'does': 1, 'house': 2, 'is': 2})})"
      ]
     },
     "execution_count": 15,
     "metadata": {},
     "output_type": "execute_result"
    }
   ],
   "source": [
    "# this creates an empty  nested dictionary using defaultdict\n",
    "# disadvantage: types in default dictionary on every line, messy\n",
    "\n",
    "dd = defaultdict(lambda: defaultdict(int))\n",
    "\n",
    "# add the first entry as with tag as key1, word as key2\n",
    "for tag, word in zip(seqA, seqB): #need to write zip(.,.) not use label\n",
    "        dd[tag][word] += 1\n",
    "dd"
   ]
  },
  {
   "cell_type": "code",
   "execution_count": 16,
   "metadata": {},
   "outputs": [
    {
     "data": {
      "text/plain": [
       "defaultdict(<function __main__.<lambda>()>,\n",
       "            {'does': defaultdict(int, {'verb': 1}),\n",
       "             'garden': defaultdict(int, {'noun': 2}),\n",
       "             'him': defaultdict(int, {'pron': 1}),\n",
       "             'house': defaultdict(int, {'noun': 4, 'pron': 1, 'verb': 2}),\n",
       "             'is': defaultdict(int, {'verb': 2}),\n",
       "             'on': defaultdict(int, {'prep': 1})})"
      ]
     },
     "execution_count": 16,
     "metadata": {},
     "output_type": "execute_result"
    }
   ],
   "source": [
    "# this creates an empty  nested dictionary using defaultdict\n",
    "# disadvantage: types in default dictionary on every line, messy\n",
    "\n",
    "de = defaultdict(lambda: defaultdict(int))\n",
    "\n",
    "# add the first entry as with tag as key1, word as key2\n",
    "for tag, word in zip(seqB, seqA): #need to write zip(.,.) not use label\n",
    "        de[tag][word] += 1\n",
    "de"
   ]
  },
  {
   "cell_type": "code",
   "execution_count": 17,
   "metadata": {},
   "outputs": [
    {
     "data": {
      "text/plain": [
       "dict_values([defaultdict(<class 'int'>, {'pron': 1, 'verb': 2, 'noun': 4}), defaultdict(<class 'int'>, {'noun': 2}), defaultdict(<class 'int'>, {'verb': 2}), defaultdict(<class 'int'>, {'prep': 1}), defaultdict(<class 'int'>, {'pron': 1}), defaultdict(<class 'int'>, {'verb': 1})])"
      ]
     },
     "execution_count": 17,
     "metadata": {},
     "output_type": "execute_result"
    }
   ],
   "source": [
    "de.values()"
   ]
  },
  {
   "cell_type": "code",
   "execution_count": 18,
   "metadata": {},
   "outputs": [
    {
     "name": "stdout",
     "output_type": "stream",
     "text": [
      "0 pron\n",
      "1 verb\n",
      "2 noun\n",
      "3 prep\n"
     ]
    }
   ],
   "source": [
    "# enumerate method includes an index \n",
    "\n",
    "for i, pair in enumerate(dd):\n",
    "    print(i, pair)"
   ]
  },
  {
   "cell_type": "code",
   "execution_count": 19,
   "metadata": {},
   "outputs": [
    {
     "name": "stdout",
     "output_type": "stream",
     "text": [
      "\n",
      "the tag: pron\n",
      "house: 1\n",
      "him: 1\n",
      "\n",
      "the tag: verb\n",
      "house: 2\n",
      "is: 2\n",
      "does: 1\n",
      "\n",
      "the tag: noun\n",
      "house: 4\n",
      "garden: 2\n",
      "\n",
      "the tag: prep\n",
      "on: 1\n"
     ]
    }
   ],
   "source": [
    "D = {'emp1': {'name': 'Bob', 'job': 'Mgr'},\n",
    "     'emp2': {'name': 'Kim', 'job': 'Dev'},\n",
    "     'emp3': {'name': 'Sam', 'job': 'Dev'}}\n",
    "\n",
    "for tag, word in dd.items():\n",
    "    print(\"\\nthe tag:\", tag)\n",
    "    for key in word:\n",
    "        print(key + ':', word[key])"
   ]
  },
  {
   "cell_type": "code",
   "execution_count": 20,
   "metadata": {},
   "outputs": [
    {
     "name": "stdout",
     "output_type": "stream",
     "text": [
      "\n",
      "Person ID: 1\n",
      "\n",
      "Person ID: 2\n",
      "Age: 22\n",
      "Name: Marie\n",
      "Sex: Female\n"
     ]
    }
   ],
   "source": [
    "people = {1: {'Name': 'John', 'Age': '27', 'Sex': 'Male'},\n",
    "          2: {'Name': 'Marie', 'Age': '22', 'Sex': 'Female'}}\n",
    "\n",
    "for p_id, p_info in people.items():\n",
    "    print(\"\\nPerson ID:\", p_id)\n",
    "    \n",
    "for key in p_info:\n",
    "        print(key + ':', p_info[key])"
   ]
  },
  {
   "cell_type": "code",
   "execution_count": 21,
   "metadata": {},
   "outputs": [
    {
     "data": {
      "text/plain": [
       "defaultdict(int,\n",
       "            {('noun', 'garden'): 2,\n",
       "             ('noun', 'house'): 4,\n",
       "             ('prep', 'on'): 1,\n",
       "             ('pron', 'him'): 1,\n",
       "             ('pron', 'house'): 1,\n",
       "             ('verb', 'does'): 1,\n",
       "             ('verb', 'house'): 2,\n",
       "             ('verb', 'is'): 2})"
      ]
     },
     "execution_count": 21,
     "metadata": {},
     "output_type": "execute_result"
    }
   ],
   "source": [
    "dc = defaultdict(int)\n",
    "\n",
    "# add the first entry as with tag as key1, word as key2\n",
    "for tag in zip(seqA, seqB): #need to write zip(.,.) not use label\n",
    "        dc[tag] += 1\n",
    "dc"
   ]
  },
  {
   "cell_type": "code",
   "execution_count": 22,
   "metadata": {},
   "outputs": [
    {
     "data": {
      "text/plain": [
       "defaultdict(int, {'does': 1, 'house': 2, 'is': 2})"
      ]
     },
     "execution_count": 22,
     "metadata": {},
     "output_type": "execute_result"
    }
   ],
   "source": [
    "special_tag='verb'\n",
    "\n",
    "dlist=defaultdict(int)\n",
    "\n",
    "for tag, word in zip(seqA, seqB):\n",
    "    if tag==special_tag:\n",
    "        dlist[word] +=1\n",
    "dlist"
   ]
  },
  {
   "cell_type": "code",
   "execution_count": 23,
   "metadata": {},
   "outputs": [
    {
     "name": "stdout",
     "output_type": "stream",
     "text": [
      "('pron', 2)\n",
      "('verb', 5)\n",
      "('noun', 6)\n",
      "('prep', 1)\n"
     ]
    }
   ],
   "source": [
    "# program to count the frequency of elements in a list using a dictionary \n",
    "  \n",
    "def CountFrequency(my_list): \n",
    "  \n",
    "    # Creating an empty dictionary  \n",
    "    freq = {} \n",
    "    for item in my_list: \n",
    "        if (item in freq): \n",
    "            freq[item] += 1\n",
    "        else: \n",
    "            freq[item] = 1\n",
    "  \n",
    "    for key, value in freq.items(): \n",
    "        print ((key, value))\n",
    "        \n",
    "CountFrequency(seqA)"
   ]
  },
  {
   "cell_type": "code",
   "execution_count": 24,
   "metadata": {},
   "outputs": [
    {
     "data": {
      "text/plain": [
       "{'noun': 'garden', 'prep': 'on', 'pron': 'house', 'verb': 'house'}"
      ]
     },
     "execution_count": 24,
     "metadata": {},
     "output_type": "execute_result"
    }
   ],
   "source": [
    "# how to create a dictionary from a zip() object\n",
    "# since the keys are unique, this doesn't work!!!\n",
    "\n",
    "dict={k:v for k, v in zip(seqA, seqB)}\n",
    "dict"
   ]
  },
  {
   "cell_type": "code",
   "execution_count": 25,
   "metadata": {},
   "outputs": [
    {
     "data": {
      "text/plain": [
       "{'noun': {'garden': 2, 'house': 4},\n",
       " 'prep': {'on': 1},\n",
       " 'pron': {'him': 1, 'house': 1},\n",
       " 'verb': {'does': 1, 'house': 2, 'is': 2}}"
      ]
     },
     "execution_count": 25,
     "metadata": {},
     "output_type": "execute_result"
    }
   ],
   "source": [
    " # create an empty dictionary\n",
    "nd = {}\n",
    "\n",
    "# use the zip() method to combine the two tuples\n",
    "for tag, word in zip(seqA, seqB):\n",
    "    # define the default state\n",
    "    if tag not in nd.keys(): nd[tag] = {} \n",
    "    if word not in nd[tag].keys(): nd[tag][word] = 0\n",
    "    # loop through the entries of the zip() object, count occurences\n",
    "    nd[tag][word] +=1\n",
    "\n",
    "# print the nested dictionary\n",
    "nd\n"
   ]
  },
  {
   "cell_type": "code",
   "execution_count": 26,
   "metadata": {},
   "outputs": [
    {
     "data": {
      "text/plain": [
       "{'Milter': {'Malter': 2, 'Miler': 4, 'Miller': 4}}"
      ]
     },
     "execution_count": 26,
     "metadata": {},
     "output_type": "execute_result"
    }
   ],
   "source": [
    "# interesting way to build a nested dictionary \n",
    "\n",
    "# this is our sample data\n",
    "data = [(\"Milter\", \"Miller\", 4), (\"Milter\", \"Miler\", 4), (\"Milter\", \"Malter\", 2)]\n",
    "\n",
    "# dictionary we want for the result\n",
    "dictionary = {}\n",
    "\n",
    "# loop that makes it work\n",
    "for realName, falseName, position in data:\n",
    "    dictionary.setdefault(realName, {})[falseName] = position\n",
    "    \n",
    "dictionary"
   ]
  },
  {
   "cell_type": "code",
   "execution_count": 27,
   "metadata": {},
   "outputs": [
    {
     "data": {
      "text/plain": [
       "{('noun', 'garden'): 2,\n",
       " ('noun', 'house'): 4,\n",
       " ('prep', 'on'): 1,\n",
       " ('pron', 'him'): 1,\n",
       " ('pron', 'house'): 1,\n",
       " ('verb', 'does'): 1,\n",
       " ('verb', 'house'): 2,\n",
       " ('verb', 'is'): 2}"
      ]
     },
     "execution_count": 27,
     "metadata": {},
     "output_type": "execute_result"
    }
   ],
   "source": [
    "# another example of computing frequencies\n",
    "\n",
    "frq={}\n",
    "for pair in listAB:\n",
    "    frq[pair] = listAB.count(pair)\n",
    "frq"
   ]
  },
  {
   "cell_type": "code",
   "execution_count": 28,
   "metadata": {},
   "outputs": [
    {
     "data": {
      "text/plain": [
       "defaultdict(list,\n",
       "            {'CA': ['Sacramento', 'Palo Alto'],\n",
       "             'GA': ['Atlanta'],\n",
       "             'NY': ['Albany', 'Syracuse', 'Buffalo', 'Rochester'],\n",
       "             'TX': ['Austin', 'Houston', 'Dallas']})"
      ]
     },
     "execution_count": 28,
     "metadata": {},
     "output_type": "execute_result"
    }
   ],
   "source": [
    "# another way to build a dictionary, where values are lists\n",
    "city_list = [('TX','Austin'), ('TX','Houston'), ('NY','Albany'), ('NY', 'Syracuse'),\n",
    "             ('NY', 'Buffalo'), ('NY', 'Rochester'), ('TX', 'Dallas'), ('CA','Sacramento'), \n",
    "             ('CA', 'Palo Alto'), ('GA', 'Atlanta')]\n",
    "\n",
    "cities_by_state = defaultdict(list)\n",
    "for state, city in city_list:\n",
    "    cities_by_state[state].append(city)\n",
    "\n",
    "#for state, cities in cities_by_state.iteritems():print state, ', '.join(cities)\n",
    "cities_by_state"
   ]
  },
  {
   "cell_type": "markdown",
   "metadata": {},
   "source": [
    "### Problem ###\n",
    "\n",
    "Return a dictionary keyed to each unique value in the input sequence list that counts the number of occurrences of the value in the sequences list. The sequences collection should be a 2-dimensional array.\n",
    "\n",
    "For example, if the tag NOUN appears 275558 times over all the input sequences, then you should return a dictionary such that your_unigram_counts[NOUN] == 275558."
   ]
  },
  {
   "cell_type": "code",
   "execution_count": 29,
   "metadata": {},
   "outputs": [],
   "source": [
    "dttrain = [[\"sunny\",\"hot\",\"high\",\"false\",\"no\"],\n",
    "    [\"sunny\",\"hot\",\"high\",\"true\",\"no\"],\n",
    "    [\"overcast\",\"hot\",\"high\",\"false\",\"yes\"]]\n"
   ]
  },
  {
   "cell_type": "code",
   "execution_count": 30,
   "metadata": {},
   "outputs": [
    {
     "data": {
      "text/plain": [
       "{'noun': 6, 'prep': 1, 'pron': 2, 'verb': 5}"
      ]
     },
     "execution_count": 30,
     "metadata": {},
     "output_type": "execute_result"
    }
   ],
   "source": [
    "def CountFrequency(my_list): \n",
    "  \n",
    "    # Creating an empty dictionary  \n",
    "    freq = {} \n",
    "    for item in my_list: \n",
    "        if (item in freq): \n",
    "            freq[item] += 1\n",
    "        else: \n",
    "            freq[item] = 1\n",
    "    return freq\n",
    "        \n",
    "CountFrequency(seqA)"
   ]
  },
  {
   "cell_type": "code",
   "execution_count": 31,
   "metadata": {},
   "outputs": [
    {
     "data": {
      "text/plain": [
       "('house',\n",
       " 'him',\n",
       " 'garden',\n",
       " 'house',\n",
       " 'is',\n",
       " 'on',\n",
       " 'house',\n",
       " 'house',\n",
       " 'is',\n",
       " 'garden',\n",
       " 'does',\n",
       " 'house',\n",
       " 'house',\n",
       " 'house')"
      ]
     },
     "execution_count": 31,
     "metadata": {},
     "output_type": "execute_result"
    }
   ],
   "source": [
    "seqB\n"
   ]
  },
  {
   "cell_type": "code",
   "execution_count": 32,
   "metadata": {},
   "outputs": [
    {
     "data": {
      "text/plain": [
       "('noun',\n",
       " 'pron',\n",
       " 'noun',\n",
       " 'noun',\n",
       " 'verb',\n",
       " 'prep',\n",
       " 'noun',\n",
       " 'noun',\n",
       " 'verb',\n",
       " 'noun',\n",
       " 'verb',\n",
       " 'pron',\n",
       " 'verb',\n",
       " 'verb')"
      ]
     },
     "execution_count": 32,
     "metadata": {},
     "output_type": "execute_result"
    }
   ],
   "source": [
    "seqA"
   ]
  },
  {
   "cell_type": "code",
   "execution_count": 33,
   "metadata": {},
   "outputs": [],
   "source": [
    "import collections\n",
    "import re\n",
    "\n",
    "def count_pairs(s):\n",
    "    \"\"\"\n",
    "    Returns a mapping that links each pair of words\n",
    "    to its number of occurrences.\n",
    "    \"\"\"\n",
    "    words = re.findall('\\w+', s.lower())\n",
    "    pairs = zip(words, words[1:])\n",
    "    return collections.Counter(pairs)\n",
    "\n",
    "def print_freqs(s):\n",
    "    \"\"\"\n",
    "    Prints the number of occurrences of word pairs\n",
    "    from the most common to the least common.\n",
    "    \"\"\"\n",
    "    cnt = count_pairs(s)\n",
    "    for pair, count in cnt.most_common():\n",
    "        print(list(pair, count))"
   ]
  },
  {
   "cell_type": "code",
   "execution_count": 34,
   "metadata": {},
   "outputs": [
    {
     "data": {
      "text/plain": [
       "Counter({('noun', 'noun'): 2,\n",
       "         ('noun', 'pron'): 1,\n",
       "         ('noun', 'verb'): 3,\n",
       "         ('prep', 'noun'): 1,\n",
       "         ('pron', 'noun'): 1,\n",
       "         ('pron', 'verb'): 1,\n",
       "         ('verb', 'noun'): 1,\n",
       "         ('verb', 'prep'): 1,\n",
       "         ('verb', 'pron'): 1,\n",
       "         ('verb', 'verb'): 1})"
      ]
     },
     "execution_count": 34,
     "metadata": {},
     "output_type": "execute_result"
    }
   ],
   "source": [
    "pairs = zip(seqA, seqA[1:])\n",
    "ab=list(pairs)\n",
    "Counter(ab)"
   ]
  },
  {
   "cell_type": "code",
   "execution_count": 35,
   "metadata": {},
   "outputs": [],
   "source": [
    "dt = [[\"sunny\",\"hot\",\"high\",\"false\",\"no\"],\n",
    "    [\"sunny\",\"hot\",\"high\",\"true\",\"no\"],\n",
    "    [\"overcast\",\"hot\",\"high\",\"false\",\"yes\"]]"
   ]
  },
  {
   "cell_type": "code",
   "execution_count": 36,
   "metadata": {},
   "outputs": [
    {
     "name": "stdout",
     "output_type": "stream",
     "text": [
      "Counter({'n': 2, 'y': 1, 'u': 1, 's': 1})\n",
      "Counter({'n': 2, 'y': 1, 'u': 1, 's': 1})\n",
      "Counter({'o': 1, 'c': 1, 'e': 1, 'r': 1, 't': 1, 'a': 1, 'v': 1, 's': 1})\n"
     ]
    }
   ],
   "source": [
    "for entry in dt:\n",
    "    print(Counter(entry[0]))\n",
    "    "
   ]
  },
  {
   "cell_type": "code",
   "execution_count": 37,
   "metadata": {},
   "outputs": [
    {
     "data": {
      "text/plain": [
       "['sunny', 'hot', 'high', 'true', 'no']"
      ]
     },
     "execution_count": 37,
     "metadata": {},
     "output_type": "execute_result"
    }
   ],
   "source": [
    "dt[1]"
   ]
  },
  {
   "cell_type": "code",
   "execution_count": 38,
   "metadata": {},
   "outputs": [
    {
     "data": {
      "text/plain": [
       "Counter({'overcast': 1, 'sunny': 2})"
      ]
     },
     "execution_count": 38,
     "metadata": {},
     "output_type": "execute_result"
    }
   ],
   "source": [
    "ls=[]\n",
    "for entry in dt:\n",
    "    ls.append(entry[0])\n",
    "Counter(ls)"
   ]
  },
  {
   "cell_type": "code",
   "execution_count": 39,
   "metadata": {},
   "outputs": [
    {
     "data": {
      "text/plain": [
       "Counter({'overcast': 1, 'sunny': 2})"
      ]
     },
     "execution_count": 39,
     "metadata": {},
     "output_type": "execute_result"
    }
   ],
   "source": [
    "begin_list = [entry[0] for entry in dt]\n",
    "Counter(begin_list)"
   ]
  },
  {
   "cell_type": "code",
   "execution_count": 40,
   "metadata": {},
   "outputs": [
    {
     "data": {
      "text/plain": [
       "['sunny', 'sunny', 'overcast']"
      ]
     },
     "execution_count": 40,
     "metadata": {},
     "output_type": "execute_result"
    }
   ],
   "source": [
    "begin_list"
   ]
  },
  {
   "cell_type": "code",
   "execution_count": 45,
   "metadata": {},
   "outputs": [],
   "source": [
    "# this corresponds to dataset.X\n",
    "\n",
    "smallX = (('eat', 'breakfast', 'at', 'morning','time'), ('take', 'time', 'with','arrow', 'projects'), \n",
    "          ('horse', 'riders', 'like', 'the', 'airport'), ('paper', 'flies', 'on', 'hydrogen', 'gas'),\n",
    "          ('bees','sting', 'like', 'some', 'flies'), ('beans', 'soil', 'an', 'iron', 'grill'), \n",
    "          ('flies', 'smell', 'an', 'arrow', 'drink'), \n",
    "          ('people', 'like', 'an', 'army', 'arrow'), ('dinner', 'time', 'flies', 'all', 'day'),\n",
    "          ('horse', 'flies', 'time', 'morning', 'rays'))# this corresponds to dataset.Y"
   ]
  },
  {
   "cell_type": "code",
   "execution_count": 47,
   "metadata": {},
   "outputs": [],
   "source": [
    "# this corresponds to dataset.Y\n",
    "\n",
    "smallY = [('VB', 'NN', 'IN','NN','NN'), ('VB', 'NN', 'IN','NN', 'NN'),\n",
    "          ('NN', 'NN', 'VB','DT', 'NN'), ('NN', 'VB', 'IN','NN', 'NN'),\n",
    "          ('NN', 'VB', 'IN','DT', 'NN'), ('NN', 'VB', 'DT','NN', 'NN'),\n",
    "         ('NN', 'VB', 'DT','NN', 'NN'), ('NN', 'VB', 'DT','NN', 'NN'),\n",
    "          ('NN', 'NN', 'VB','DT', 'NN'), ('NN', 'NN', 'VB','NN', 'NN')]"
   ]
  },
  {
   "cell_type": "markdown",
   "metadata": {},
   "source": [
    "### Implement HMM Tagger"
   ]
  },
  {
   "cell_type": "code",
   "execution_count": 41,
   "metadata": {},
   "outputs": [],
   "source": [
    "import warnings\n",
    "warnings.filterwarnings('ignore')"
   ]
  },
  {
   "cell_type": "code",
   "execution_count": 42,
   "metadata": {},
   "outputs": [],
   "source": [
    "# Jupyter \"magic methods\" -- only need to be run once per kernel restart\n",
    "%load_ext autoreload\n",
    "%aimport helpers, tests\n",
    "%autoreload 1"
   ]
  },
  {
   "cell_type": "code",
   "execution_count": 43,
   "metadata": {},
   "outputs": [],
   "source": [
    "# import python modules -- this cell needs to be run again if you make changes to any of the files\n",
    "import matplotlib.pyplot as plt\n",
    "import numpy as np\n",
    "\n",
    "from IPython.core.display import HTML\n",
    "from itertools import chain\n",
    "from collections import Counter, defaultdict\n",
    "from helpers import show_model, Dataset\n",
    "from pomegranate import State, HiddenMarkovModel, DiscreteDistribution"
   ]
  },
  {
   "cell_type": "code",
   "execution_count": 60,
   "metadata": {},
   "outputs": [
    {
     "name": "stdout",
     "output_type": "stream",
     "text": [
      "There are 57340 sentences in the corpus.\n",
      "57340\n"
     ]
    }
   ],
   "source": [
    "data_small=Dataset(\"brown_small.txt\", \"brown-universal.txt\")\n",
    "\n",
    "print(\"There are {} sentences in the corpus.\".format(len(data_small)))\n",
    "\n",
    "print(len(data_small))\n"
   ]
  },
  {
   "cell_type": "code",
   "execution_count": 59,
   "metadata": {},
   "outputs": [
    {
     "name": "stdout",
     "output_type": "stream",
     "text": [
      "\n",
      "Stream (word, tag) pairs:\n",
      "\n",
      "\t (('eat', 'breakfast', 'at', 'morning', 'time'), ('VB', 'NN', 'IN', 'NN', 'NN'))\n",
      "\t (('take', 'time', 'with', 'arrow', 'projects'), ('VB', 'NN', 'IN', 'NN', 'NN'))\n",
      "\t (('horse', 'riders', 'like', 'the', 'airport'), ('NN', 'NN', 'VB', 'DT', 'NN'))\n",
      "\t (('paper', 'flies', 'on', 'hydrogen', 'gas'), ('NN', 'VB', 'IN', 'NN', 'NN'))\n",
      "\t (('bees', 'sting', 'like', 'some', 'flies'), ('NN', 'VB', 'IN', 'DT', 'NN'))\n",
      "\t (('beans', 'soil', 'an', 'iron', 'grill'), ('NN', 'VB', 'DT', 'NN', 'NN'))\n",
      "\t (('flies', 'smell', 'an', 'arrow', 'drink'), ('NN', 'VB', 'DT', 'NN', 'NN'))\n"
     ]
    }
   ],
   "source": [
    "# use Dataset.stream() (word, tag) samples for the entire corpus\n",
    "\n",
    "print(\"\\nStream (word, tag) pairs:\\n\")\n",
    "for i, pair in enumerate(data_small):\n",
    "    print(\"\\t\", pair)"
   ]
  },
  {
   "cell_type": "code",
   "execution_count": 61,
   "metadata": {},
   "outputs": [],
   "source": [
    "nested = {'noun':{'house': 12, 'car': 2, 'elephant': 4}, 'verb': {'is':10, 'was':2}}"
   ]
  },
  {
   "cell_type": "code",
   "execution_count": 62,
   "metadata": {},
   "outputs": [
    {
     "data": {
      "text/plain": [
       "dict_keys(['verb', 'noun'])"
      ]
     },
     "execution_count": 62,
     "metadata": {},
     "output_type": "execute_result"
    }
   ],
   "source": [
    "nested.keys()"
   ]
  },
  {
   "cell_type": "code",
   "execution_count": 63,
   "metadata": {},
   "outputs": [
    {
     "data": {
      "text/plain": [
       "dict_items([('verb', {'was': 2, 'is': 10}), ('noun', {'car': 2, 'house': 12, 'elephant': 4})])"
      ]
     },
     "execution_count": 63,
     "metadata": {},
     "output_type": "execute_result"
    }
   ],
   "source": [
    "nested.items()"
   ]
  },
  {
   "cell_type": "code",
   "execution_count": 64,
   "metadata": {},
   "outputs": [
    {
     "data": {
      "text/plain": [
       "dict_values([{'was': 2, 'is': 10}, {'car': 2, 'house': 12, 'elephant': 4}])"
      ]
     },
     "execution_count": 64,
     "metadata": {},
     "output_type": "execute_result"
    }
   ],
   "source": [
    "nested.values()"
   ]
  },
  {
   "cell_type": "code",
   "execution_count": 72,
   "metadata": {},
   "outputs": [
    {
     "name": "stdout",
     "output_type": "stream",
     "text": [
      "dict_keys(['was', 'is'])\n",
      "dict_keys(['car', 'house', 'elephant'])\n"
     ]
    }
   ],
   "source": [
    "for key, value in nested.items():\n",
    "    print(value.keys())"
   ]
  },
  {
   "cell_type": "code",
   "execution_count": 76,
   "metadata": {},
   "outputs": [
    {
     "name": "stdout",
     "output_type": "stream",
     "text": [
      "{'was': 2, 'is': 10}\n",
      "verb\n",
      "{'car': 2, 'house': 12, 'elephant': 4}\n",
      "noun\n"
     ]
    }
   ],
   "source": [
    "for item1, item2 in nested.items():\n",
    "    print(item2)\n",
    "    print\n",
    "    print(item1)"
   ]
  },
  {
   "cell_type": "code",
   "execution_count": 77,
   "metadata": {},
   "outputs": [
    {
     "name": "stdout",
     "output_type": "stream",
     "text": [
      "verb\n",
      "noun\n"
     ]
    }
   ],
   "source": [
    "for item in nested:\n",
    "    print(item)"
   ]
  },
  {
   "cell_type": "code",
   "execution_count": 79,
   "metadata": {},
   "outputs": [
    {
     "name": "stdout",
     "output_type": "stream",
     "text": [
      "('verb', {'was': 2, 'is': 10})\n",
      "('noun', {'car': 2, 'house': 12, 'elephant': 4})\n"
     ]
    }
   ],
   "source": [
    "for item in nested.items():\n",
    "    print(item)"
   ]
  },
  {
   "cell_type": "code",
   "execution_count": 81,
   "metadata": {},
   "outputs": [
    {
     "name": "stdout",
     "output_type": "stream",
     "text": [
      "[2, 10]\n",
      "[2, 12, 4]\n"
     ]
    }
   ],
   "source": [
    "for key, value in nested.items():\n",
    "    print(list(value.values()))"
   ]
  },
  {
   "cell_type": "code",
   "execution_count": 85,
   "metadata": {},
   "outputs": [],
   "source": [
    "small_stream = list(zip(smallX,smallY))"
   ]
  },
  {
   "cell_type": "code",
   "execution_count": 86,
   "metadata": {},
   "outputs": [],
   "source": [
    "tags = [pair[1] for pair in small_stream]"
   ]
  },
  {
   "cell_type": "code",
   "execution_count": 88,
   "metadata": {},
   "outputs": [
    {
     "data": {
      "text/plain": [
       "[('VB', 'NN', 'IN', 'NN', 'NN'),\n",
       " ('VB', 'NN', 'IN', 'NN', 'NN'),\n",
       " ('NN', 'NN', 'VB', 'DT', 'NN'),\n",
       " ('NN', 'VB', 'IN', 'NN', 'NN'),\n",
       " ('NN', 'VB', 'IN', 'DT', 'NN'),\n",
       " ('NN', 'VB', 'DT', 'NN', 'NN'),\n",
       " ('NN', 'VB', 'DT', 'NN', 'NN'),\n",
       " ('NN', 'VB', 'DT', 'NN', 'NN'),\n",
       " ('NN', 'NN', 'VB', 'DT', 'NN'),\n",
       " ('NN', 'NN', 'VB', 'NN', 'NN')]"
      ]
     },
     "execution_count": 88,
     "metadata": {},
     "output_type": "execute_result"
    }
   ],
   "source": [
    "smallY"
   ]
  },
  {
   "cell_type": "code",
   "execution_count": 91,
   "metadata": {},
   "outputs": [],
   "source": [
    "flatY = [item for sublist in smallY for item in sublist]\n",
    "flatX = [item for sublist in smallX for item in sublist]"
   ]
  },
  {
   "cell_type": "code",
   "execution_count": 93,
   "metadata": {},
   "outputs": [],
   "source": [
    "Counter(zip(flatX, flatY));"
   ]
  },
  {
   "cell_type": "code",
   "execution_count": null,
   "metadata": {},
   "outputs": [],
   "source": []
  }
 ],
 "metadata": {
  "kernelspec": {
   "display_name": "Python 3",
   "language": "python",
   "name": "python3"
  },
  "language_info": {
   "codemirror_mode": {
    "name": "ipython",
    "version": 3
   },
   "file_extension": ".py",
   "mimetype": "text/x-python",
   "name": "python",
   "nbconvert_exporter": "python",
   "pygments_lexer": "ipython3",
   "version": "3.5.4"
  }
 },
 "nbformat": 4,
 "nbformat_minor": 4
}
